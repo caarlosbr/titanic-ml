{
 "cells": [
  {
   "cell_type": "code",
   "execution_count": 2,
   "id": "dc7eac0f-18c7-4c62-afb2-2b558a5616ab",
   "metadata": {},
   "outputs": [
    {
     "name": "stdout",
     "output_type": "stream",
     "text": [
      "Valores nulos por columna:\n",
      "Survived      0\n",
      "Pclass        0\n",
      "Sex           0\n",
      "Age           0\n",
      "SibSp         0\n",
      "Parch         0\n",
      "Fare          0\n",
      "Embarked_Q    0\n",
      "Embarked_S    0\n",
      "dtype: int64\n",
      "\n",
      "Primeras filas después de limpieza:\n",
      "   Survived  Pclass  Sex   Age  SibSp  Parch     Fare  Embarked_Q  Embarked_S\n",
      "0         0       3    0  22.0      1      0   7.2500       False        True\n",
      "1         1       1    1  38.0      1      0  71.2833       False       False\n",
      "2         1       3    1  26.0      0      0   7.9250       False        True\n",
      "3         1       1    1  35.0      1      0  53.1000       False        True\n",
      "4         0       3    0  35.0      0      0   8.0500       False        True\n"
     ]
    }
   ],
   "source": [
    "import pandas as pd\n",
    "\n",
    "# Cargar datos\n",
    "pc = pd.read_csv(\"../data/train.csv\")\n",
    "\n",
    "# Eliminar columnas que no sirven\n",
    "pc = pc.drop(columns=[\"PassengerId\", \"Name\", \"Ticket\", \"Cabin\"])\n",
    "\n",
    "# Manejo de nulos en 'Age' (rellenar con la media)\n",
    "pc[\"Age\"] = pc[\"Age\"].fillna(pc[\"Age\"].mean())\n",
    "\n",
    "# Manejo de nulos en 'Embarked' (rellenar con la moda = valor más frecuente)\n",
    "pc[\"Embarked\"] = pc[\"Embarked\"].fillna(pc[\"Embarked\"].mode()[0])\n",
    "\n",
    "# Codificar variables categóricas\n",
    "pc[\"Sex\"] = pc[\"Sex\"].map({\"male\": 0, \"female\": 1})\n",
    "pc = pd.get_dummies(pc, columns=[\"Embarked\"], drop_first=True)  \n",
    "# crea columnas Embarked_Q, Embarked_S (C es la referencia)\n",
    "\n",
    "# Comprobar que no quedan nulos\n",
    "print(\"Valores nulos por columna:\")\n",
    "print(pc.isnull().sum())\n",
    "\n",
    "# Vista final\n",
    "print(\"\\nPrimeras filas después de limpieza:\")\n",
    "print(pc.head())\n"
   ]
  },
  {
   "cell_type": "code",
   "execution_count": null,
   "id": "94822392-2afc-4bc1-9083-f28320743adf",
   "metadata": {},
   "outputs": [],
   "source": []
  }
 ],
 "metadata": {
  "kernelspec": {
   "display_name": "Python 3 (ipykernel)",
   "language": "python",
   "name": "python3"
  },
  "language_info": {
   "codemirror_mode": {
    "name": "ipython",
    "version": 3
   },
   "file_extension": ".py",
   "mimetype": "text/x-python",
   "name": "python",
   "nbconvert_exporter": "python",
   "pygments_lexer": "ipython3",
   "version": "3.12.6"
  }
 },
 "nbformat": 4,
 "nbformat_minor": 5
}
